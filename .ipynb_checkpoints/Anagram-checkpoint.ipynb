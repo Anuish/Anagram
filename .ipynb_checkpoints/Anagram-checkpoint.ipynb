{
 "cells": [
  {
   "cell_type": "code",
   "execution_count": 2,
   "metadata": {},
   "outputs": [],
   "source": [
    "from itertools import permutations\n",
    "from nltk.corpus import words\n",
    "\n",
    "def anagram(word):\n",
    "    '''\n",
    "    Anagram is a function that generates another\n",
    "    english word by rearanging the letters of the \n",
    "    word given.\n",
    "    '''\n",
    "    wordSet = set() #prevents the duplication of words\n",
    "    \n",
    "    letter =[x.lower() for x in word] #creates a list of each letter in the word\n",
    "\n",
    "    #for length in range(3, len(word)+1): #the length of the word should be >=3\n",
    "    \n",
    "    for y in list(permutations(letter)): #rearranges the letter\n",
    "        z = \"\".join(y) #forms a string from the letters\n",
    "        \n",
    "        # checks the words formed are valid english words and isn't the same as the word given\n",
    "        if(z in words.words() and z != word): \n",
    "            wordSet.add(z)\n",
    "    print(wordSet)"
   ]
  },
  {
   "cell_type": "code",
   "execution_count": 3,
   "metadata": {},
   "outputs": [
    {
     "name": "stdout",
     "output_type": "stream",
     "text": [
      "{'spar'}\n"
     ]
    }
   ],
   "source": [
    "anagram('rasp')"
   ]
  }
 ],
 "metadata": {
  "kernelspec": {
   "display_name": "Python 3",
   "language": "python",
   "name": "python3"
  },
  "language_info": {
   "codemirror_mode": {
    "name": "ipython",
    "version": 3
   },
   "file_extension": ".py",
   "mimetype": "text/x-python",
   "name": "python",
   "nbconvert_exporter": "python",
   "pygments_lexer": "ipython3",
   "version": "3.8.3"
  }
 },
 "nbformat": 4,
 "nbformat_minor": 4
}
