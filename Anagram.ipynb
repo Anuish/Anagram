{
 "cells": [
  {
   "cell_type": "code",
   "execution_count": 3,
   "metadata": {},
   "outputs": [],
   "source": [
    "from itertools import permutations\n",
    "from nltk.corpus import words\n",
    "\n",
    "def anagram(word):\n",
    "    \n",
    "    wordSet = set()\n",
    "    \n",
    "    letter =[x.lower() for x in word]\n",
    "\n",
    "    for length in range(3, len(word)+1):\n",
    "        for y in list(permutations(letter, length)):\n",
    "            z = \"\".join(y)\n",
    "            if(z in words.words()):\n",
    "                wordSet.add(z)\n",
    "    print(wordSet)"
   ]
  },
  {
   "cell_type": "code",
   "execution_count": 4,
   "metadata": {},
   "outputs": [
    {
     "name": "stdout",
     "output_type": "stream",
     "text": [
      "{'puppy', 'pup'}\n"
     ]
    }
   ],
   "source": [
    "anagram('puppy')"
   ]
  }
 ],
 "metadata": {
  "kernelspec": {
   "display_name": "Python 3",
   "language": "python",
   "name": "python3"
  },
  "language_info": {
   "codemirror_mode": {
    "name": "ipython",
    "version": 3
   },
   "file_extension": ".py",
   "mimetype": "text/x-python",
   "name": "python",
   "nbconvert_exporter": "python",
   "pygments_lexer": "ipython3",
   "version": "3.8.3"
  }
 },
 "nbformat": 4,
 "nbformat_minor": 4
}
